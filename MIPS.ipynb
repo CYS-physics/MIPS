{
 "cells": [
  {
   "cell_type": "markdown",
   "metadata": {},
   "source": [
    "## MIPS\n",
    "noninteracting particles with motility restricted by density"
   ]
  },
  {
   "cell_type": "code",
   "execution_count": 1,
   "metadata": {},
   "outputs": [],
   "source": [
    "# Importing packages\n",
    "import numpy as np\n",
    "import matplotlib.pyplot as plt\n",
    "import ipywidgets as widgets\n",
    "from IPython.display import display"
   ]
  },
  {
   "cell_type": "code",
   "execution_count": 2,
   "metadata": {},
   "outputs": [],
   "source": [
    "# Jupyter notebook magic for matplotlib\n",
    "%matplotlib notebook"
   ]
  },
  {
   "cell_type": "code",
   "execution_count": 3,
   "metadata": {},
   "outputs": [],
   "source": [
    "class MIPS:\n",
    "    def __init__(self, N, eta):\n",
    "        # Initialize simulation\n",
    "        self.L = 20  # length of the square 2D region to be simulated\n",
    "        self.halfL = self.L / 2  # half of length (used later for PBCs)\n",
    "        self.N = N  # number of particles in the 2D region\n",
    "        self.rho = N/self.L**2  # density of particles in the simulation\n",
    "        self.eta = eta  # noise in the system\n",
    "        self.r = 1  # interaction radius\n",
    "        self.rsq = self.r * self.r  # square of interaction radius\n",
    "        self.dt = 1.0  # time step\n",
    "        self.vinit = 0.6\n",
    "        self.v = self.vinit*np.ones(self.N)  # magnitude of velocity\n",
    "        self.pos = np.random.rand(self.N, 2) * self.L  # random initial position in 2D region\n",
    "        self.theta = (np.random.rand(self.N) * 2 - 1) * np.pi  # random velocity angle [-pi pi]\n",
    "        self.vel = np.zeros((self.N, 2))  # initialize velocity array\n",
    "        self.vel[:, 0] = self.v * np.cos(self.theta)  # velocity along x\n",
    "        self.vel[:, 1] = self.v * np.sin(self.theta)  # velocity along y\n",
    "        self.tt = 1000  # total number of time steps\n",
    "        self.rparts = np.eye(N, dtype=np.bool)  # matrix representing particles within distance r\n",
    "\n",
    "    def main(self):\n",
    "        # Plot initial positions\n",
    "        plt.ion()\n",
    "        fig0 = plt.figure()\n",
    "        ax0 = fig0.add_subplot(111)\n",
    "        axrange = [0, self.L, 0, self.L]\n",
    "        ax0.quiver(self.pos[:, 0], self.pos[:, 1], self.vel[:, 0], self.vel[:, 1])\n",
    "        ax0.scatter(self.pos[:, 0], self.pos[:, 1],s=100,alpha=0.1)\n",
    "        ax0.axis(axrange)\n",
    "        ax0.set_aspect('equal', 'box')\n",
    "        fig0.show()\n",
    "        fig0.tight_layout()\n",
    "        fig0.canvas.draw()\n",
    "        #Setup plot for updated positions\n",
    "        fig1 = plt.figure()\n",
    "        ax1 = fig1.add_subplot(111)\n",
    "        fig1.show()\n",
    "        fig1.tight_layout()\n",
    "        fig1.canvas.draw()\n",
    "        for nn in range(self.tt):\n",
    "            ax1.clear()\n",
    "            ax1.quiver(self.pos[:, 0], self.pos[:, 1], self.vel[:, 0], self.vel[:, 1])\n",
    "            ax1.scatter(self.pos[:, 0], self.pos[:, 1],s=100,alpha=0.1)\n",
    "            ax1.axis(axrange)\n",
    "            ax1.set_aspect('equal', 'box')\n",
    "            fig1.canvas.draw()\n",
    "            self.update()\n",
    "\n",
    "    def update(self):\n",
    "\n",
    "        # Generate the set of random movements dTheta from [-eta/2, eta/2]\n",
    "        noise = (np.random.rand(self.N) - 0.5) * self.eta\n",
    "\n",
    "        # Find particles within distance r\n",
    "        self.find_particles()\n",
    "\n",
    "#         # Initialize average theta\n",
    "#         avg_theta = np.zeros(self.N)\n",
    "\n",
    "#         for i in range(self.N):\n",
    "\n",
    "#             # Angles of particles within separation r\n",
    "#             rtheta = self.theta[self.rparts[i, :]]\n",
    "#             avg_theta[i] = np.arctan2(np.mean(np.sin(rtheta)), np.mean(np.cos(rtheta)))\n",
    "\n",
    "        # Updated angles = avg. angles + noise\n",
    "        self.theta += noise\n",
    "        \n",
    "        for i in range(self.N):\n",
    "            self.v[i] = self.vinit/(np.sum(self.rparts[i,:])+1)\n",
    "\n",
    "        # Updated velocities\n",
    "        self.vel[:, 0] = self.v * np.cos(self.theta)\n",
    "        self.vel[:, 1] = self.v * np.sin(self.theta)\n",
    "\n",
    "        # Updated positions\n",
    "        self.pos = self.pos + self.vel * self.dt\n",
    "\n",
    "        # Applying periodic boundaries\n",
    "        self.pos = np.mod(self.pos, self.L)\n",
    "\n",
    "    def find_particles(self):     # updated using matrix operation\n",
    "\n",
    "        # Reset rparts matrix\n",
    "        self.rparts = np.eye(self.N, dtype=np.bool)\n",
    "        \n",
    "        x = self.pos[:,0].reshape(1,-1)\n",
    "        y = self.pos[:,1].reshape(1,-1)\n",
    "        \n",
    "        diffx = x-x.T\n",
    "        diffy = y-y.T\n",
    "        \n",
    "        diffxn = -self.halfL + np.mod(diffx+self.halfL,self.L)\n",
    "        diffyn = -self.halfL + np.mod(diffy+self.halfL,self.L)\n",
    "        \n",
    "        diff = diffxn**2+diffyn**2\n",
    "        \n",
    "        self.rparts = diff<self.rsq\n",
    "        \n",
    "        \n",
    "\n",
    "#         for i in range(self.N):\n",
    "#             for j in range(i + 1, self.N):\n",
    "\n",
    "#                 diff = self.pos[i, :] - self.pos[j, :]\n",
    "\n",
    "#                 # Apply minimum image criteria for periodic boundaries on diff\n",
    "#                 for dim in range(2):\n",
    "#                     while diff[dim] > self.halfL:\n",
    "#                         diff[dim] = diff[dim] - self.L\n",
    "#                     while diff[dim] < -self.halfL:\n",
    "#                         diff[dim] = diff[dim] + self.L\n",
    "\n",
    "#                 # Separation between particles squared\n",
    "#                 sepsq = np.dot(diff, diff)\n",
    "#                 rflag = sepsq < self.rsq\n",
    "#                 self.rparts[i, j] = rflag\n",
    "#                 self.rparts[j, i] = rflag"
   ]
  },
  {
   "cell_type": "code",
   "execution_count": 4,
   "metadata": {},
   "outputs": [],
   "source": [
    "def start_AM_sim(num_particles=2, noise=0.5):\n",
    "    v2d = MIPS(num_particles, noise)\n",
    "    print(\"Box size =\", v2d.L)\n",
    "    print(\"Particle density =\", v2d.rho)\n",
    "    v2d.main()"
   ]
  },
  {
   "cell_type": "code",
   "execution_count": 6,
   "metadata": {},
   "outputs": [
    {
     "data": {
      "application/vnd.jupyter.widget-view+json": {
       "model_id": "f4f51f169c4e42a7bf8a097f1b91a792",
       "version_major": 2,
       "version_minor": 0
      },
      "text/plain": [
       "HBox(children=(IntSlider(value=100, continuous_update=False, description='Number of particles', max=4000, min=…"
      ]
     },
     "metadata": {},
     "output_type": "display_data"
    },
    {
     "data": {
      "application/vnd.jupyter.widget-view+json": {
       "model_id": "3fad2ce1dd6542c0a91da1638341508d",
       "version_major": 2,
       "version_minor": 0
      },
      "text/plain": [
       "Output()"
      ]
     },
     "metadata": {},
     "output_type": "display_data"
    }
   ],
   "source": [
    "# Interactive control for entering number of particles\n",
    "style = {'description_width': 'initial'}    \n",
    "num_particles = widgets.IntSlider(description='Number of particles', style=style, \n",
    "                                    min=100, max=4000, step=300, value=2, continuous_update=False)\n",
    "# Interactive control for entering noise\n",
    "noise = widgets.FloatSlider(description='Noise', style=style, \n",
    "                             min=0.6, max=1, step=0.1, value=0, continuous_update=False)\n",
    "# Creating the interactive controls\n",
    "widget_ui = widgets.HBox([num_particles, noise])\n",
    "widget_out = widgets.interactive_output(start_AM_sim, \n",
    "                                        {'num_particles': num_particles, 'noise': noise})\n",
    "# Display the controls and output\n",
    "display(widget_ui, widget_out)"
   ]
  },
  {
   "cell_type": "code",
   "execution_count": null,
   "metadata": {},
   "outputs": [],
   "source": []
  },
  {
   "cell_type": "code",
   "execution_count": null,
   "metadata": {},
   "outputs": [],
   "source": []
  }
 ],
 "metadata": {
  "kernelspec": {
   "display_name": "Python 3",
   "language": "python",
   "name": "python3"
  },
  "language_info": {
   "codemirror_mode": {
    "name": "ipython",
    "version": 3
   },
   "file_extension": ".py",
   "mimetype": "text/x-python",
   "name": "python",
   "nbconvert_exporter": "python",
   "pygments_lexer": "ipython3",
   "version": "3.7.6"
  }
 },
 "nbformat": 4,
 "nbformat_minor": 4
}
