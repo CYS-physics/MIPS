{
 "cells": [
  {
   "cell_type": "markdown",
   "metadata": {},
   "source": [
    "## Simulating active matter using the Vicsek Model\n",
    "Following code implements the Vicsek model in 2D from PRL 75 1226 (1995)"
   ]
  },
  {
   "cell_type": "code",
   "execution_count": 10,
   "metadata": {},
   "outputs": [],
   "source": [
    "# Importing packages\n",
    "import numpy as np\n",
    "import matplotlib.pyplot as plt\n",
    "import ipywidgets as widgets\n",
    "from IPython.display import display"
   ]
  },
  {
   "cell_type": "code",
   "execution_count": 11,
   "metadata": {},
   "outputs": [],
   "source": [
    "# Jupyter notebook magic for matplotlib\n",
    "%matplotlib notebook"
   ]
  },
  {
   "cell_type": "code",
   "execution_count": 21,
   "metadata": {},
   "outputs": [],
   "source": [
    "class Vicsek2D:\n",
    "    def __init__(self, N, eta):\n",
    "        # Initialize simulation\n",
    "        self.L = 20  # length of the square 2D region to be simulated\n",
    "        self.halfL = self.L / 2  # half of length (used later for PBCs)\n",
    "        self.N = N  # number of particles in the 2D region\n",
    "        self.rho = N/self.L**2  # density of particles in the simulation\n",
    "        self.eta = eta  # noise in the system\n",
    "        self.r = 1  # interaction radius\n",
    "        self.rsq = self.r * self.r  # square of interaction radius\n",
    "        self.dt = 1.0  # time step\n",
    "        self.v = 0.03  # magnitude of velocity\n",
    "        self.pos = np.random.rand(self.N, 2) * self.L  # random initial position in 2D region\n",
    "        self.theta = (np.random.rand(self.N) * 2 - 1) * np.pi  # random velocity angle [-pi pi]\n",
    "        self.vel = np.zeros((self.N, 2))  # initialize velocity array\n",
    "        self.vel[:, 0] = self.v * np.cos(self.theta)  # velocity along x\n",
    "        self.vel[:, 1] = self.v * np.sin(self.theta)  # velocity along y\n",
    "        self.tt = 200  # total number of time steps\n",
    "        self.rparts = np.eye(N, dtype=np.bool)  # matrix representing particles within distance r\n",
    "\n",
    "    def main(self):\n",
    "        # Plot initial positions\n",
    "        plt.ion()\n",
    "        fig0 = plt.figure()\n",
    "        ax0 = fig0.add_subplot(111)\n",
    "        axrange = [0, self.L, 0, self.L]\n",
    "        ax0.quiver(self.pos[:, 0], self.pos[:, 1], self.vel[:, 0], self.vel[:, 1])\n",
    "        ax0.axis(axrange)\n",
    "        ax0.set_aspect('equal', 'box')\n",
    "        fig0.show()\n",
    "        fig0.tight_layout()\n",
    "        fig0.canvas.draw()\n",
    "        # Setup plot for updated positions\n",
    "        fig1 = plt.figure()\n",
    "        ax1 = fig1.add_subplot(111)\n",
    "        fig1.show()\n",
    "        fig1.tight_layout()\n",
    "        fig1.canvas.draw()\n",
    "        for nn in range(self.tt):\n",
    "            ax1.clear()\n",
    "            ax1.quiver(self.pos[:, 0], self.pos[:, 1], self.vel[:, 0], self.vel[:, 1])\n",
    "            ax1.axis(axrange)\n",
    "            ax1.set_aspect('equal', 'box')\n",
    "            fig1.canvas.draw()\n",
    "            self.update()\n",
    "\n",
    "    def update(self):\n",
    "\n",
    "        # Generate the set of random movements dTheta from [-eta/2, eta/2]\n",
    "        noise = (np.random.rand(self.N) - 0.5) * self.eta\n",
    "\n",
    "        # Find particles within distance r\n",
    "        self.find_particles()\n",
    "\n",
    "        # Initialize average theta\n",
    "        avg_theta = np.zeros(self.N)\n",
    "\n",
    "        for i in range(self.N):\n",
    "\n",
    "            # Angles of particles within separation r\n",
    "            rtheta = self.theta[self.rparts[i, :]]\n",
    "            avg_theta[i] = np.arctan2(np.mean(np.sin(rtheta)), np.mean(np.cos(rtheta)))\n",
    "\n",
    "        # Updated angles = avg. angles + noise\n",
    "        self.theta = avg_theta + noise\n",
    "\n",
    "        # Updated velocities\n",
    "        self.vel[:, 0] = self.v * np.cos(self.theta)\n",
    "        self.vel[:, 1] = self.v * np.sin(self.theta)\n",
    "\n",
    "        # Updated positions\n",
    "        self.pos = self.pos + self.vel * self.dt\n",
    "\n",
    "        # Applying periodic boundaries\n",
    "        self.pos = np.mod(self.pos, self.L)\n",
    "\n",
    "    def find_particles(self):\n",
    "\n",
    "        # Reset rparts matrix\n",
    "        self.rparts = np.eye(self.N, dtype=np.bool)\n",
    "\n",
    "        for i in range(self.N):\n",
    "            for j in range(i + 1, self.N):\n",
    "\n",
    "                diff = self.pos[i, :] - self.pos[j, :]\n",
    "\n",
    "                # Apply minimum image criteria for periodic boundaries on diff\n",
    "                for dim in range(2):\n",
    "                    while diff[dim] > self.halfL:\n",
    "                        diff[dim] = diff[dim] - self.L\n",
    "                    while diff[dim] < -self.halfL:\n",
    "                        diff[dim] = diff[dim] + self.L\n",
    "\n",
    "                # Separation between particles squared\n",
    "                sepsq = np.dot(diff, diff)\n",
    "                rflag = sepsq < self.rsq\n",
    "                self.rparts[i, j] = rflag\n",
    "                self.rparts[j, i] = rflag"
   ]
  },
  {
   "cell_type": "code",
   "execution_count": 4,
   "metadata": {},
   "outputs": [
    {
     "ename": "KeyboardInterrupt",
     "evalue": "",
     "output_type": "error",
     "traceback": [
      "\u001b[0;31m---------------------------------------------------------------------------\u001b[0m",
      "\u001b[0;31mKeyboardInterrupt\u001b[0m                         Traceback (most recent call last)",
      "\u001b[0;32m/Library/Frameworks/Python.framework/Versions/3.6/lib/python3.6/site-packages/ipykernel/kernelbase.py\u001b[0m in \u001b[0;36m_input_request\u001b[0;34m(self, prompt, ident, parent, password)\u001b[0m\n\u001b[1;32m    728\u001b[0m             \u001b[0;32mtry\u001b[0m\u001b[0;34m:\u001b[0m\u001b[0;34m\u001b[0m\u001b[0m\n\u001b[0;32m--> 729\u001b[0;31m                 \u001b[0mident\u001b[0m\u001b[0;34m,\u001b[0m \u001b[0mreply\u001b[0m \u001b[0;34m=\u001b[0m \u001b[0mself\u001b[0m\u001b[0;34m.\u001b[0m\u001b[0msession\u001b[0m\u001b[0;34m.\u001b[0m\u001b[0mrecv\u001b[0m\u001b[0;34m(\u001b[0m\u001b[0mself\u001b[0m\u001b[0;34m.\u001b[0m\u001b[0mstdin_socket\u001b[0m\u001b[0;34m,\u001b[0m \u001b[0;36m0\u001b[0m\u001b[0;34m)\u001b[0m\u001b[0;34m\u001b[0m\u001b[0m\n\u001b[0m\u001b[1;32m    730\u001b[0m             \u001b[0;32mexcept\u001b[0m \u001b[0mException\u001b[0m\u001b[0;34m:\u001b[0m\u001b[0;34m\u001b[0m\u001b[0m\n",
      "\u001b[0;32m/Library/Frameworks/Python.framework/Versions/3.6/lib/python3.6/site-packages/jupyter_client/session.py\u001b[0m in \u001b[0;36mrecv\u001b[0;34m(self, socket, mode, content, copy)\u001b[0m\n\u001b[1;32m    802\u001b[0m         \u001b[0;32mtry\u001b[0m\u001b[0;34m:\u001b[0m\u001b[0;34m\u001b[0m\u001b[0m\n\u001b[0;32m--> 803\u001b[0;31m             \u001b[0mmsg_list\u001b[0m \u001b[0;34m=\u001b[0m \u001b[0msocket\u001b[0m\u001b[0;34m.\u001b[0m\u001b[0mrecv_multipart\u001b[0m\u001b[0;34m(\u001b[0m\u001b[0mmode\u001b[0m\u001b[0;34m,\u001b[0m \u001b[0mcopy\u001b[0m\u001b[0;34m=\u001b[0m\u001b[0mcopy\u001b[0m\u001b[0;34m)\u001b[0m\u001b[0;34m\u001b[0m\u001b[0m\n\u001b[0m\u001b[1;32m    804\u001b[0m         \u001b[0;32mexcept\u001b[0m \u001b[0mzmq\u001b[0m\u001b[0;34m.\u001b[0m\u001b[0mZMQError\u001b[0m \u001b[0;32mas\u001b[0m \u001b[0me\u001b[0m\u001b[0;34m:\u001b[0m\u001b[0;34m\u001b[0m\u001b[0m\n",
      "\u001b[0;32m/Library/Frameworks/Python.framework/Versions/3.6/lib/python3.6/site-packages/zmq/sugar/socket.py\u001b[0m in \u001b[0;36mrecv_multipart\u001b[0;34m(self, flags, copy, track)\u001b[0m\n\u001b[1;32m    465\u001b[0m         \"\"\"\n\u001b[0;32m--> 466\u001b[0;31m         \u001b[0mparts\u001b[0m \u001b[0;34m=\u001b[0m \u001b[0;34m[\u001b[0m\u001b[0mself\u001b[0m\u001b[0;34m.\u001b[0m\u001b[0mrecv\u001b[0m\u001b[0;34m(\u001b[0m\u001b[0mflags\u001b[0m\u001b[0;34m,\u001b[0m \u001b[0mcopy\u001b[0m\u001b[0;34m=\u001b[0m\u001b[0mcopy\u001b[0m\u001b[0;34m,\u001b[0m \u001b[0mtrack\u001b[0m\u001b[0;34m=\u001b[0m\u001b[0mtrack\u001b[0m\u001b[0;34m)\u001b[0m\u001b[0;34m]\u001b[0m\u001b[0;34m\u001b[0m\u001b[0m\n\u001b[0m\u001b[1;32m    467\u001b[0m         \u001b[0;31m# have first part already, only loop while more to receive\u001b[0m\u001b[0;34m\u001b[0m\u001b[0;34m\u001b[0m\u001b[0m\n",
      "\u001b[0;32mzmq/backend/cython/socket.pyx\u001b[0m in \u001b[0;36mzmq.backend.cython.socket.Socket.recv\u001b[0;34m()\u001b[0m\n",
      "\u001b[0;32mzmq/backend/cython/socket.pyx\u001b[0m in \u001b[0;36mzmq.backend.cython.socket.Socket.recv\u001b[0;34m()\u001b[0m\n",
      "\u001b[0;32mzmq/backend/cython/socket.pyx\u001b[0m in \u001b[0;36mzmq.backend.cython.socket._recv_copy\u001b[0;34m()\u001b[0m\n",
      "\u001b[0;32m/Library/Frameworks/Python.framework/Versions/3.6/lib/python3.6/site-packages/zmq/backend/cython/checkrc.pxd\u001b[0m in \u001b[0;36mzmq.backend.cython.checkrc._check_rc\u001b[0;34m()\u001b[0m\n",
      "\u001b[0;31mKeyboardInterrupt\u001b[0m: ",
      "\nDuring handling of the above exception, another exception occurred:\n",
      "\u001b[0;31mKeyboardInterrupt\u001b[0m                         Traceback (most recent call last)",
      "\u001b[0;32m<ipython-input-4-410bb46fa9ce>\u001b[0m in \u001b[0;36m<module>\u001b[0;34m()\u001b[0m\n\u001b[1;32m      1\u001b[0m \u001b[0;31m# Ask user for parameters\u001b[0m\u001b[0;34m\u001b[0m\u001b[0;34m\u001b[0m\u001b[0m\n\u001b[0;32m----> 2\u001b[0;31m \u001b[0mN\u001b[0m \u001b[0;34m=\u001b[0m \u001b[0mint\u001b[0m\u001b[0;34m(\u001b[0m\u001b[0minput\u001b[0m\u001b[0;34m(\u001b[0m\u001b[0;34m\"Enter the number of particles you want in the box (try 200): \"\u001b[0m\u001b[0;34m)\u001b[0m\u001b[0;34m)\u001b[0m\u001b[0;34m\u001b[0m\u001b[0m\n\u001b[0m\u001b[1;32m      3\u001b[0m \u001b[0meta\u001b[0m \u001b[0;34m=\u001b[0m \u001b[0mfloat\u001b[0m\u001b[0;34m(\u001b[0m\u001b[0minput\u001b[0m\u001b[0;34m(\u001b[0m\u001b[0;34m\"Enter the maximum noise in the system (try 0.2): \"\u001b[0m\u001b[0;34m)\u001b[0m\u001b[0;34m)\u001b[0m\u001b[0;34m\u001b[0m\u001b[0m\n\u001b[1;32m      4\u001b[0m \u001b[0mv2d\u001b[0m \u001b[0;34m=\u001b[0m \u001b[0mVicsek2D\u001b[0m\u001b[0;34m(\u001b[0m\u001b[0mN\u001b[0m\u001b[0;34m,\u001b[0m \u001b[0meta\u001b[0m\u001b[0;34m)\u001b[0m\u001b[0;34m\u001b[0m\u001b[0m\n\u001b[1;32m      5\u001b[0m \u001b[0mprint\u001b[0m\u001b[0;34m(\u001b[0m\u001b[0;34m\"Box size =\"\u001b[0m\u001b[0;34m,\u001b[0m \u001b[0mv2d\u001b[0m\u001b[0;34m.\u001b[0m\u001b[0mL\u001b[0m\u001b[0;34m)\u001b[0m\u001b[0;34m\u001b[0m\u001b[0m\n",
      "\u001b[0;32m/Library/Frameworks/Python.framework/Versions/3.6/lib/python3.6/site-packages/ipykernel/kernelbase.py\u001b[0m in \u001b[0;36mraw_input\u001b[0;34m(self, prompt)\u001b[0m\n\u001b[1;32m    702\u001b[0m             \u001b[0mself\u001b[0m\u001b[0;34m.\u001b[0m\u001b[0m_parent_ident\u001b[0m\u001b[0;34m,\u001b[0m\u001b[0;34m\u001b[0m\u001b[0m\n\u001b[1;32m    703\u001b[0m             \u001b[0mself\u001b[0m\u001b[0;34m.\u001b[0m\u001b[0m_parent_header\u001b[0m\u001b[0;34m,\u001b[0m\u001b[0;34m\u001b[0m\u001b[0m\n\u001b[0;32m--> 704\u001b[0;31m             \u001b[0mpassword\u001b[0m\u001b[0;34m=\u001b[0m\u001b[0;32mFalse\u001b[0m\u001b[0;34m,\u001b[0m\u001b[0;34m\u001b[0m\u001b[0m\n\u001b[0m\u001b[1;32m    705\u001b[0m         )\n\u001b[1;32m    706\u001b[0m \u001b[0;34m\u001b[0m\u001b[0m\n",
      "\u001b[0;32m/Library/Frameworks/Python.framework/Versions/3.6/lib/python3.6/site-packages/ipykernel/kernelbase.py\u001b[0m in \u001b[0;36m_input_request\u001b[0;34m(self, prompt, ident, parent, password)\u001b[0m\n\u001b[1;32m    732\u001b[0m             \u001b[0;32mexcept\u001b[0m \u001b[0mKeyboardInterrupt\u001b[0m\u001b[0;34m:\u001b[0m\u001b[0;34m\u001b[0m\u001b[0m\n\u001b[1;32m    733\u001b[0m                 \u001b[0;31m# re-raise KeyboardInterrupt, to truncate traceback\u001b[0m\u001b[0;34m\u001b[0m\u001b[0;34m\u001b[0m\u001b[0m\n\u001b[0;32m--> 734\u001b[0;31m                 \u001b[0;32mraise\u001b[0m \u001b[0mKeyboardInterrupt\u001b[0m\u001b[0;34m\u001b[0m\u001b[0m\n\u001b[0m\u001b[1;32m    735\u001b[0m             \u001b[0;32melse\u001b[0m\u001b[0;34m:\u001b[0m\u001b[0;34m\u001b[0m\u001b[0m\n\u001b[1;32m    736\u001b[0m                 \u001b[0;32mbreak\u001b[0m\u001b[0;34m\u001b[0m\u001b[0m\n",
      "\u001b[0;31mKeyboardInterrupt\u001b[0m: "
     ]
    }
   ],
   "source": [
    "# Ask user for parameters\n",
    "N = int(input(\"Enter the number of particles you want in the box (try 200): \"))\n",
    "eta = float(input(\"Enter the maximum noise in the system (try 0.2): \"))\n",
    "v2d = Vicsek2D(N, eta)\n",
    "print(\"Box size =\", v2d.L)\n",
    "print(\"Particle density =\", v2d.rho)\n",
    "v2d.main()"
   ]
  },
  {
   "cell_type": "code",
   "execution_count": 22,
   "metadata": {},
   "outputs": [],
   "source": [
    "def start_AM_sim(num_particles=2, noise=0.5):\n",
    "    v2d = Vicsek2D(num_particles, noise)\n",
    "    print(\"Box size =\", v2d.L)\n",
    "    print(\"Particle density =\", v2d.rho)\n",
    "    v2d.main()"
   ]
  },
  {
   "cell_type": "code",
   "execution_count": 23,
   "metadata": {},
   "outputs": [
    {
     "data": {
      "application/vnd.jupyter.widget-view+json": {
       "model_id": "0dd396ea9f974d319b9b3e05c0b1d563",
       "version_major": 2,
       "version_minor": 0
      },
      "text/plain": [
       "HBox(children=(IntSlider(value=2, continuous_update=False, description='Number of particles', max=500, min=1, …"
      ]
     },
     "metadata": {},
     "output_type": "display_data"
    },
    {
     "data": {
      "application/vnd.jupyter.widget-view+json": {
       "model_id": "a0e341d044d24a9396547bab4cc07d8a",
       "version_major": 2,
       "version_minor": 0
      },
      "text/plain": [
       "Output()"
      ]
     },
     "metadata": {},
     "output_type": "display_data"
    }
   ],
   "source": [
    "# Interactive control for entering number of particles\n",
    "style = {'description_width': 'initial'}    \n",
    "num_particles = widgets.IntSlider(description='Number of particles', style=style, \n",
    "                                    min=1, max=500, step=1, value=2, continuous_update=False)\n",
    "# Interactive control for entering noise\n",
    "noise = widgets.FloatSlider(description='Noise', style=style, \n",
    "                             min=0, max=1, step=0.1, value=0, continuous_update=False)\n",
    "# Creating the interactive controls\n",
    "widget_ui = widgets.HBox([num_particles, noise])\n",
    "widget_out = widgets.interactive_output(start_AM_sim, \n",
    "                                        {'num_particles': num_particles, 'noise': noise})\n",
    "# Display the controls and output\n",
    "display(widget_ui, widget_out)"
   ]
  },
  {
   "cell_type": "code",
   "execution_count": null,
   "metadata": {},
   "outputs": [],
   "source": []
  }
 ],
 "metadata": {
  "kernelspec": {
   "display_name": "Python 3",
   "language": "python",
   "name": "python3"
  },
  "language_info": {
   "codemirror_mode": {
    "name": "ipython",
    "version": 3
   },
   "file_extension": ".py",
   "mimetype": "text/x-python",
   "name": "python",
   "nbconvert_exporter": "python",
   "pygments_lexer": "ipython3",
   "version": "3.6.2"
  }
 },
 "nbformat": 4,
 "nbformat_minor": 2
}
